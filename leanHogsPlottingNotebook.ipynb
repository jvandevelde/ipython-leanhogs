{
 "cells": [
  {
   "cell_type": "markdown",
   "metadata": {},
   "source": [
    "# Plot Mean Details\n",
    "Enter any set of years from 2010-2017 and a near + set of far contracts to plot details"
   ]
  },
  {
   "cell_type": "code",
   "execution_count": 1,
   "metadata": {
    "collapsed": false
   },
   "outputs": [
    {
     "name": "stdout",
     "output_type": "stream",
     "text": [
      "Clicked val1:J val2:(2012, 2013, 2014, 2015, 2016)\n"
     ]
    }
   ],
   "source": [
    "import utility as util\n",
    "\n",
    "util.test()\n"
   ]
  },
  {
   "cell_type": "code",
   "execution_count": 1,
   "metadata": {
    "collapsed": false,
    "scrolled": false
   },
   "outputs": [
    {
     "name": "stdout",
     "output_type": "stream",
     "text": [
      "[2016, 2017]\n",
      "Start Date: 2015-05-13 00:00:00\n",
      "End Date:2016-05-13 00:00:00\n",
      "['LNM', 'LNN', 'LNQ']\n",
      "Last save date: 1480385430.9073162\n",
      "Loading from Quandl\n",
      "Graph strt/end: 2015-05-13 00:00:00 - 2016-05-13 00:00:00\n",
      "Plotting LNK-LNM\n",
      "Plotting LNK-LNN\n",
      "Plotting LNK-LNQ\n"
     ]
    }
   ],
   "source": [
    "%load_ext autoreload\n",
    "%autoreload 2\n",
    "import controller\n",
    "import lhdata\n",
    "\n",
    "years = [2011, 2012, 2013, 2014, 2015]\n",
    "near = 'LNK'\n",
    "\n",
    "dfList = controller.calculate(near, years)\n",
    "\n",
    "lhdata.plot_historical_comparison(dfList, near)\n",
    "#lhdata.plot_continual_spread_set(dfList, near)"
   ]
  },
  {
   "cell_type": "markdown",
   "metadata": {},
   "source": [
    "# Plot multiple average lines"
   ]
  },
  {
   "cell_type": "code",
   "execution_count": null,
   "metadata": {
    "collapsed": false
   },
   "outputs": [],
   "source": [
    "iWantToSeeFarContract = 'LNN'\n",
    "yearList = {\n",
    "    '2011 and 2013':['2011','2013'], \n",
    "    '2012 - 2015':['2012','2013','2014','2015'],\n",
    "    '2011 - 2016':['2011', '2012','2013','2014','2015', '2016']\n",
    "}\n",
    "\n",
    "\n",
    "disp = [dfHistorical for (farContract, dfHistorical, dfContinuous) in dfList if farContract == iWantToSeeFarContract]\n",
    "dfAvgs = lhdata.plot_custom_historical_series(disp[0], yearList, '2017')"
   ]
  },
  {
   "cell_type": "markdown",
   "metadata": {},
   "source": [
    "# Using Plottly for interactive graphs"
   ]
  },
  {
   "cell_type": "code",
   "execution_count": null,
   "metadata": {
    "collapsed": false,
    "scrolled": false
   },
   "outputs": [],
   "source": [
    "# plotly\n",
    "import cufflinks as cf\n",
    "import plotly\n",
    "import plotly.offline as py\n",
    "import plotly.graph_objs as go\n",
    "\n",
    "cf.go_offline() # required to use plotly offline (no account required).\n",
    "py.init_notebook_mode() # graphs charts inline (IPython).\n",
    "\n",
    "iWantToSeeFarContract = 'LNN'\n",
    "\n",
    "disp = [dfHistorical for (farContract, dfHistorical, dfContinuous) in dfList if farContract == iWantToSeeFarContract]\n",
    "\n",
    "#https://plot.ly/ipython-notebooks/cufflinks/\n",
    "#origCols = [col for col in disp[0].columns if col.startswith('diff_')]\n",
    "df = disp[0].dropna(how='all')\n",
    "\n",
    "\n",
    "df.iplot(kind='scatter',xTitle='Date',yTitle='Difference',title='{0}-{1}'.format(near,iWantToSeeFarContract), theme='henanigans', dimensions=(1000,500))\n",
    "dfAvgs.dropna(how='all').iplot(kind='scatter',xTitle='Date',yTitle='Difference',title='{0}-{1}'.format(near,iWantToSeeFarContract), theme='polar', dimensions=(1000,500))\n",
    "cf.getThemes()"
   ]
  }
 ],
 "metadata": {
  "anaconda-cloud": {},
  "kernelspec": {
   "display_name": "Python [Root]",
   "language": "python",
   "name": "Python [Root]"
  },
  "language_info": {
   "codemirror_mode": {
    "name": "ipython",
    "version": 3
   },
   "file_extension": ".py",
   "mimetype": "text/x-python",
   "name": "python",
   "nbconvert_exporter": "python",
   "pygments_lexer": "ipython3",
   "version": "3.5.2"
  },
  "widgets": {
   "state": {
    "0400edb9c74745cb99905f62f660a924": {
     "views": [
      {
       "cell_index": 2
      }
     ]
    },
    "049d2660ccd64d6c85fb29c8cf2e2ea1": {
     "views": [
      {
       "cell_index": 2
      }
     ]
    },
    "25b06624d0ab4a7791f953fda19da7af": {
     "views": [
      {
       "cell_index": 2
      }
     ]
    },
    "2651f4152b5742e49294546ec1ca58d6": {
     "views": [
      {
       "cell_index": 2
      }
     ]
    },
    "3b67982f1e504490ae8492ba110c8b69": {
     "views": [
      {
       "cell_index": 2
      }
     ]
    },
    "3cf59f26c9804e488aa4366867d7abcf": {
     "views": [
      {
       "cell_index": 2
      }
     ]
    },
    "42f38d8cde5f4118b0dd7af11bb17084": {
     "views": [
      {
       "cell_index": 2
      }
     ]
    },
    "497b9fd66c86455c912227c47e903cfd": {
     "views": [
      {
       "cell_index": 2
      }
     ]
    },
    "4c38df1841b04af18bc3e2e0add4ed8d": {
     "views": [
      {
       "cell_index": 2
      }
     ]
    },
    "4dc6cdd96f0142608bcb6a0d89c57078": {
     "views": [
      {
       "cell_index": 2
      }
     ]
    },
    "64f011e937aa4f569174e7b6ff676e1a": {
     "views": [
      {
       "cell_index": 2
      }
     ]
    },
    "6a2b995180f3456fbd0bb576832bc9cd": {
     "views": [
      {
       "cell_index": 2
      }
     ]
    },
    "775975008f0842c58d11324e70a1f8ef": {
     "views": [
      {
       "cell_index": 2
      }
     ]
    },
    "7820833856da4e6d88ce4a471b4d6e2b": {
     "views": [
      {
       "cell_index": 2
      }
     ]
    },
    "7bb6d44ec7a44815b3ae7fbd3db7f573": {
     "views": [
      {
       "cell_index": 2
      }
     ]
    },
    "7bca745359a34134ac0441c5c4892c25": {
     "views": [
      {
       "cell_index": 2
      }
     ]
    },
    "7bf06d718f2f40459ffbe6872fe57515": {
     "views": [
      {
       "cell_index": 2
      }
     ]
    },
    "7ebd65c8d3e94c1f8c684a35e8549d30": {
     "views": [
      {
       "cell_index": 2
      }
     ]
    },
    "a224e6159f794344b3e59e5b5c1dfad5": {
     "views": [
      {
       "cell_index": 2
      }
     ]
    },
    "abb2374e391c4c9691d96012a8fc3b81": {
     "views": [
      {
       "cell_index": 2
      }
     ]
    },
    "e0ae1b3126fc4755a4d300aa32904f0d": {
     "views": [
      {
       "cell_index": 2
      }
     ]
    },
    "e6c4a822559b4883bf525461b88ed095": {
     "views": [
      {
       "cell_index": 2
      }
     ]
    },
    "ea8a6a509b6445a58b782ef90eb9feab": {
     "views": [
      {
       "cell_index": 2
      }
     ]
    },
    "ee6e9c8170a04661a86d3f8d6c1238a7": {
     "views": [
      {
       "cell_index": 2
      }
     ]
    },
    "f8dc1da9bd834ae19173a2b761ac49cc": {
     "views": [
      {
       "cell_index": 2
      }
     ]
    },
    "fb585ffd9aa646108b98e1b1957215d4": {
     "views": [
      {
       "cell_index": 2
      }
     ]
    }
   },
   "version": "1.2.0"
  }
 },
 "nbformat": 4,
 "nbformat_minor": 0
}
