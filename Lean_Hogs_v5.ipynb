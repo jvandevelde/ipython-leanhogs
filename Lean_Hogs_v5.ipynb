{
 "cells": [
  {
   "cell_type": "code",
   "execution_count": 2,
   "metadata": {
    "scrolled": false
   },
   "outputs": [
    {
     "name": "stdout",
     "output_type": "stream",
     "text": [
      "The autoreload extension is already loaded. To reload it, use:\n",
      "  %reload_ext autoreload\n"
     ]
    },
    {
     "data": {
      "application/vnd.jupyter.widget-view+json": {
       "model_id": "73bb3ccbc29e4bdea0592cf3d9a2938e",
       "version_major": 2,
       "version_minor": 0
      },
      "text/plain": [
       "HBox(children=(VBox(children=(SelectMultiple(index=(18, 19, 20, 21, 22), layout=Layout(height='300px'), option…"
      ]
     },
     "metadata": {},
     "output_type": "display_data"
    },
    {
     "data": {
      "application/vnd.jupyter.widget-view+json": {
       "model_id": "1c3e852d37d84b3ab22564e77279e25a",
       "version_major": 2,
       "version_minor": 0
      },
      "text/plain": [
       "HBox(children=(Button(button_style='info', description='Five', style=ButtonStyle()), Button(button_style='info…"
      ]
     },
     "metadata": {},
     "output_type": "display_data"
    },
    {
     "data": {
      "application/vnd.jupyter.widget-view+json": {
       "model_id": "3eddcd92af964fb49e8c22cdcdf091ed",
       "version_major": 2,
       "version_minor": 0
      },
      "text/plain": [
       "HBox(children=(Select(layout=Layout(height='190px'), options=('JKM', 'GJM', 'QVZ', 'VZG', 'GJK', 'NQV', 'KMN',…"
      ]
     },
     "metadata": {},
     "output_type": "display_data"
    },
    {
     "name": "stdout",
     "output_type": "stream",
     "text": [
      "Loading data from file 'data.hist.pickle'\n",
      "data.pickle was last updated on: 03/30/2020\n",
      "Loading data from file 'data.pickle'\n",
      "Loading data from file 'data.hist.pickle'\n",
      "data.pickle was last updated on: 03/30/2020\n",
      "Loading data from file 'data.pickle'\n",
      "Loading data from file 'data.hist.pickle'\n",
      "data.pickle was last updated on: 03/30/2020\n",
      "Loading data from file 'data.pickle'\n",
      "Loading data from file 'data.hist.pickle'\n",
      "data.pickle was last updated on: 03/30/2020\n",
      "Loading data from file 'data.pickle'\n",
      "Error:  <class 'exceptions.ContractException'>\n",
      "Loading data from file 'data.hist.pickle'\n",
      "data.pickle was last updated on: 03/30/2020\n",
      "Loading data from file 'data.pickle'\n",
      "Loading data from file 'data.hist.pickle'\n",
      "data.pickle was last updated on: 03/30/2020\n",
      "Loading data from file 'data.pickle'\n",
      "Error:  <class 'exceptions.ContractException'>\n"
     ]
    }
   ],
   "source": [
    "%matplotlib qt\n",
    "\n",
    "%load_ext autoreload\n",
    "%autoreload 2\n",
    "\n",
    "import uicontroller as ui\n",
    "\n",
    "custom_series_list = {\n",
    "    '2012 and 2013': [2012,2013], \n",
    "    '2012 - 2015': [2012, 2013, 2014, 2015],\n",
    "    '2012 - 2016': [2012, 2012, 2013, 2014, 2015, 2016]\n",
    "}\n",
    "\n",
    "ui.start(custom_series_list)"
   ]
  },
  {
   "cell_type": "code",
   "execution_count": null,
   "metadata": {},
   "outputs": [],
   "source": []
  }
 ],
 "metadata": {
  "kernelspec": {
   "display_name": "Python 3",
   "language": "python",
   "name": "python3"
  },
  "language_info": {
   "codemirror_mode": {
    "name": "ipython",
    "version": 3
   },
   "file_extension": ".py",
   "mimetype": "text/x-python",
   "name": "python",
   "nbconvert_exporter": "python",
   "pygments_lexer": "ipython3",
   "version": "3.5.6"
  }
 },
 "nbformat": 4,
 "nbformat_minor": 4
}
