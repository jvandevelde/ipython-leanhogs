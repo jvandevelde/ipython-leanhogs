{
 "cells": [
  {
   "cell_type": "markdown",
   "metadata": {},
   "source": [
    "# Plot Mean Details\n",
    "Enter any set of years from 2010-2017 and a near + set of far contracts to plot details"
   ]
  },
  {
   "cell_type": "code",
   "execution_count": null,
   "metadata": {
    "collapsed": false,
    "scrolled": true
   },
   "outputs": [],
   "source": [
    "import controller\n",
    "import lhdata\n",
    "\n",
    "years = [2011, 2012, 2013, 2014, 2015, 2016, 2017]\n",
    "near = 'LNK'\n",
    "far = ['LNM', 'LNN', 'LNQ']\n",
    "\n",
    "dfList = controller.calculate(near, far, years)\n",
    "\n",
    "lhdata.plt_multiple_pairs(dfList, near)"
   ]
  },
  {
   "cell_type": "markdown",
   "metadata": {},
   "source": [
    "# Plot multiple average lines"
   ]
  },
  {
   "cell_type": "code",
   "execution_count": null,
   "metadata": {
    "collapsed": false
   },
   "outputs": [],
   "source": [
    "iWantToSeeFarContract = 'LNN'\n",
    "yearList = {\n",
    "    '2011 and 2013':['2011','2013'], \n",
    "    '2012 - 2015':['2012','2013','2014','2015'],\n",
    "    '2011 - 2016':['2011', '2012','2013','2014','2015', '2016']\n",
    "}\n",
    "\n",
    "\n",
    "disp = [df for (farContract,df) in dfList if farContract == iWantToSeeFarContract]\n",
    "dfAvgs = lhdata.plot_multiple_avgs(disp[0], yearList, '2017')"
   ]
  },
  {
   "cell_type": "markdown",
   "metadata": {},
   "source": [
    "# Using Plottly for interactive graphs"
   ]
  },
  {
   "cell_type": "code",
   "execution_count": null,
   "metadata": {
    "collapsed": false,
    "scrolled": false
   },
   "outputs": [],
   "source": [
    "# plotly\n",
    "import cufflinks as cf\n",
    "import plotly\n",
    "import plotly.offline as py\n",
    "import plotly.graph_objs as go\n",
    "\n",
    "cf.go_offline() # required to use plotly offline (no account required).\n",
    "py.init_notebook_mode() # graphs charts inline (IPython).\n",
    "\n",
    "iWantToSeeFarContract = 'LNN'\n",
    "\n",
    "disp = [df for (farContract,df) in dfList if farContract == iWantToSeeFarContract]\n",
    "\n",
    "#https://plot.ly/ipython-notebooks/cufflinks/\n",
    "origCols = [col for col in disp[0].columns if col.startswith('diff_')]\n",
    "df = disp[0][origCols].dropna(how='all')\n",
    "\n",
    "\n",
    "df.iplot(kind='scatter',xTitle='Date',yTitle='Difference',title='{0}-{1}'.format(near,iWantToSeeFarContract), theme='henanigans', dimensions=(1000,500))\n",
    "dfAvgs.dropna(how='all').iplot(kind='scatter',xTitle='Date',yTitle='Difference',title='{0}-{1}'.format(near,iWantToSeeFarContract), theme='polar', dimensions=(1000,500))\n",
    "cf.getThemes()"
   ]
  }
 ],
 "metadata": {
  "anaconda-cloud": {},
  "kernelspec": {
   "display_name": "Python [Root]",
   "language": "python",
   "name": "Python [Root]"
  },
  "language_info": {
   "codemirror_mode": {
    "name": "ipython",
    "version": 3
   },
   "file_extension": ".py",
   "mimetype": "text/x-python",
   "name": "python",
   "nbconvert_exporter": "python",
   "pygments_lexer": "ipython3",
   "version": "3.5.2"
  }
 },
 "nbformat": 4,
 "nbformat_minor": 0
}
