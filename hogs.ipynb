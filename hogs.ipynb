{
 "cells": [
  {
   "cell_type": "markdown",
   "metadata": {},
   "source": [
    "# Auto-save\n",
    "Clicks on #1 & #2 automatically save the generated charts to [Your computer](output\\charts)\n"
   ]
  },
  {
   "cell_type": "code",
   "execution_count": 50,
   "metadata": {
    "collapsed": false,
    "scrolled": true
   },
   "outputs": [
    {
     "name": "stdout",
     "output_type": "stream",
     "text": [
      "Loading data from file 'data.hist.pickle'\n",
      "data.pickle was last updated on: 02/04/2017\n",
      "Loading data from file 'data.pickle'\n"
     ]
    }
   ],
   "source": [
    "%matplotlib qt\n",
    "%load_ext autoreload\n",
    "%autoreload 2\n",
    "import uicontroller as ui\n",
    "\n",
    "custom_series_list = {\n",
    "    '2012 and 2013': [2012,2013], \n",
    "    '2012 - 2015': [2012, 2013, 2014, 2015],\n",
    "    '2012 - 2016': [2012, 2012, 2013, 2014, 2015, 2016]\n",
    "}\n",
    "\n",
    "ui.start(custom_series_list)"
   ]
  }
 ],
 "metadata": {
  "anaconda-cloud": {},
  "kernelspec": {
   "display_name": "Python 3",
   "language": "python",
   "name": "python3"
  },
  "language_info": {
   "codemirror_mode": {
    "name": "ipython",
    "version": 3
   },
   "file_extension": ".py",
   "mimetype": "text/x-python",
   "name": "python",
   "nbconvert_exporter": "python",
   "pygments_lexer": "ipython3",
   "version": "3.5.2"
  },
  "widgets": {
   "state": {
    "002154c751cb4ac49dd3f7a7b001c663": {
     "views": [
      {
       "cell_index": 1
      }
     ]
    },
    "1605d977529e4bd89d87effba7c789d1": {
     "views": [
      {
       "cell_index": 1
      }
     ]
    },
    "1806c1bb2a414926adbc29533dfe8e06": {
     "views": [
      {
       "cell_index": 1
      }
     ]
    },
    "1db718fa786c4b42ad1f4909a3f56495": {
     "views": [
      {
       "cell_index": 1
      }
     ]
    },
    "1eedd3ffd4524a738f297aa807a1b161": {
     "views": [
      {
       "cell_index": 1
      }
     ]
    },
    "22dd3baac9e840a288e19659d1f3c29b": {
     "views": [
      {
       "cell_index": 1
      }
     ]
    },
    "2b1b85790f294c23ac3eee1dbd90b70a": {
     "views": [
      {
       "cell_index": 1
      }
     ]
    },
    "2b7d575b28f24801915f864843dba55c": {
     "views": [
      {
       "cell_index": 1
      }
     ]
    },
    "37d1826e03a64d4d884db001594809e7": {
     "views": [
      {
       "cell_index": 1
      }
     ]
    },
    "4da8e3be4b18450295c162246c9ee987": {
     "views": [
      {
       "cell_index": 1
      }
     ]
    },
    "4f66736d3daf41ee8306266ef0d0481f": {
     "views": [
      {
       "cell_index": 1
      }
     ]
    },
    "5386c5d789664263a25321e91e93d159": {
     "views": [
      {
       "cell_index": 1
      }
     ]
    },
    "541215f84c3547b0a553a692625b0049": {
     "views": [
      {
       "cell_index": 1
      }
     ]
    },
    "559d89642b2242d8be6ff07c20d97676": {
     "views": [
      {
       "cell_index": 1
      }
     ]
    },
    "565031f3abe3429ea9810a11387ed35d": {
     "views": [
      {
       "cell_index": 1
      }
     ]
    },
    "56d3df3bfe7f4c188a77a797c70d0279": {
     "views": [
      {
       "cell_index": 1
      }
     ]
    },
    "5ba27f23e30a40a7add54f019f820060": {
     "views": [
      {
       "cell_index": 1
      }
     ]
    },
    "5f599eee73c443afa3288bc96ba0add2": {
     "views": [
      {
       "cell_index": 1
      }
     ]
    },
    "606f561af85043feb7e7c4a072001a10": {
     "views": [
      {
       "cell_index": 1
      }
     ]
    },
    "6370cd4199074503b5bcecf05ab84309": {
     "views": [
      {
       "cell_index": 1
      }
     ]
    },
    "674a631724fd4ba590492cfe55342ebe": {
     "views": [
      {
       "cell_index": 1
      }
     ]
    },
    "67886bf370ff4cd38fe591618973cd45": {
     "views": [
      {
       "cell_index": 1
      }
     ]
    },
    "68e71893d47d481b9a2318af922069f9": {
     "views": [
      {
       "cell_index": 1
      }
     ]
    },
    "6aea39bd3b6c4676a87b2892e4af361c": {
     "views": [
      {
       "cell_index": 1
      }
     ]
    },
    "6e6d604e73a641a4bc9aaae92b5602a6": {
     "views": [
      {
       "cell_index": 1
      }
     ]
    },
    "6e74c93dab024f1ca6dfc0a43becb60f": {
     "views": [
      {
       "cell_index": 1
      }
     ]
    },
    "70fbdfaa230641f7b51043e330f441f6": {
     "views": [
      {
       "cell_index": 1
      }
     ]
    },
    "7997d6a9a60e430b8c3e4586bcbac8ff": {
     "views": [
      {
       "cell_index": 1
      }
     ]
    },
    "7d157f80f7844e78b5ff368821d54c50": {
     "views": [
      {
       "cell_index": 1
      }
     ]
    },
    "807d685046934d83abc22941d6858eca": {
     "views": [
      {
       "cell_index": 1
      }
     ]
    },
    "8338cba1a9bf4e5daa02df9bf53ec21a": {
     "views": [
      {
       "cell_index": 1
      }
     ]
    },
    "90c052c84f824ca6bac47046359182c4": {
     "views": [
      {
       "cell_index": 1
      }
     ]
    },
    "93f2ca894d234f1bbe14393c1f451a44": {
     "views": [
      {
       "cell_index": 1
      }
     ]
    },
    "9485d6b9877847fdba18e7ff1c6e4bc1": {
     "views": [
      {
       "cell_index": 1
      }
     ]
    },
    "960b24d57ef44a5d86348a1a9954cbe9": {
     "views": [
      {
       "cell_index": 1
      }
     ]
    },
    "9e8107c998de49e08c3c9971abe8b6fc": {
     "views": [
      {
       "cell_index": 1
      }
     ]
    },
    "a334e4c8a4ae409c84d3d19f0c382780": {
     "views": [
      {
       "cell_index": 1
      }
     ]
    },
    "b3616f6b982744e58307569d869249a0": {
     "views": [
      {
       "cell_index": 1
      }
     ]
    },
    "c7bf54b01d654443afc99898ebde144c": {
     "views": [
      {
       "cell_index": 1
      }
     ]
    },
    "c7eccdd065124cf7b87827c324146f4b": {
     "views": [
      {
       "cell_index": 1
      }
     ]
    },
    "ca8b120fd9d94003a2b6d2db0fc365cd": {
     "views": [
      {
       "cell_index": 1
      }
     ]
    },
    "cc095a94c33d40078c263b06f9aab09a": {
     "views": [
      {
       "cell_index": 1
      }
     ]
    },
    "d0d7b0d507154bbeac4ab0baf8e1f0ca": {
     "views": [
      {
       "cell_index": 1
      }
     ]
    },
    "d3011c7ad9104565b91f4230c36941e4": {
     "views": [
      {
       "cell_index": 1
      }
     ]
    },
    "d5b5f282d709444bb01b09c1cf4cef4e": {
     "views": [
      {
       "cell_index": 1
      }
     ]
    },
    "da604125edde48a698080639b0f61912": {
     "views": [
      {
       "cell_index": 1
      }
     ]
    },
    "e4f2d2659bde4132b443b5cf93c2ea7c": {
     "views": [
      {
       "cell_index": 1
      }
     ]
    },
    "f03c6ad7328c4b9091d4ed2b0977c4c5": {
     "views": [
      {
       "cell_index": 1
      }
     ]
    },
    "f17937b0e0fc438397303a97789779fa": {
     "views": [
      {
       "cell_index": 1
      }
     ]
    },
    "f6b2c501798a40eba96792142d35a473": {
     "views": [
      {
       "cell_index": 1
      }
     ]
    },
    "f6fa5d729f214e76b516fc405a29a8ce": {
     "views": [
      {
       "cell_index": 1
      }
     ]
    }
   },
   "version": "1.2.0"
  }
 },
 "nbformat": 4,
 "nbformat_minor": 0
}
