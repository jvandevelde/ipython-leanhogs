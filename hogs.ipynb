{
 "cells": [
  {
   "cell_type": "markdown",
   "metadata": {},
   "source": [
    "# Auto-save\n",
    "Clicks on #1 & #2 automatically save the generated charts to [Your computer](output\\charts)\n"
   ]
  },
  {
   "cell_type": "code",
   "execution_count": 45,
   "metadata": {
    "collapsed": false,
    "scrolled": true
   },
   "outputs": [
    {
     "name": "stdout",
     "output_type": "stream",
     "text": [
      "Loading data from file 'data.hist.pickle'\n",
      "data.pickle was last updated on: 01/23/2017\n",
      "Loading data from file 'data.pickle'\n"
     ]
    }
   ],
   "source": [
    "%matplotlib qt\n",
    "%load_ext autoreload\n",
    "%autoreload 2\n",
    "import uicontroller as ui\n",
    "\n",
    "custom_series_list = {\n",
    "    '2012 and 2013': [2012,2013], \n",
    "    '2012 - 2015': [2012, 2013, 2014, 2015],\n",
    "    '2012 - 2016': [2012, 2012, 2013, 2014, 2015, 2016]\n",
    "}\n",
    "\n",
    "ui.start(custom_series_list)"
   ]
  }
 ],
 "metadata": {
  "anaconda-cloud": {},
  "kernelspec": {
   "display_name": "Python [conda env:hogs]",
   "language": "python",
   "name": "conda-env-hogs-py"
  },
  "language_info": {
   "codemirror_mode": {
    "name": "ipython",
    "version": 3
   },
   "file_extension": ".py",
   "mimetype": "text/x-python",
   "name": "python",
   "nbconvert_exporter": "python",
   "pygments_lexer": "ipython3",
   "version": "3.5.2"
  },
  "widgets": {
   "state": {
    "02f2a7568610448581a75e472cd14f81": {
     "views": [
      {
       "cell_index": 1
      }
     ]
    },
    "0786aec63c0948b2a1a2078da35a0706": {
     "views": [
      {
       "cell_index": 1
      }
     ]
    },
    "080d88a5af784937b3997ccd68ab2dfb": {
     "views": [
      {
       "cell_index": 1
      }
     ]
    },
    "117cfb8881e947cd8bd905400cf90cab": {
     "views": [
      {
       "cell_index": 1
      }
     ]
    },
    "11f4550e2cc7497d92157fde74408b46": {
     "views": [
      {
       "cell_index": 1
      }
     ]
    },
    "135ebb1e6921480a91d6667259cde61d": {
     "views": [
      {
       "cell_index": 1
      }
     ]
    },
    "157bba729a6b46f9b87213366813c8b6": {
     "views": [
      {
       "cell_index": 1
      }
     ]
    },
    "161762a9192e4ca0b0fe29f5b9352832": {
     "views": [
      {
       "cell_index": 1
      }
     ]
    },
    "18d0a108f2284ce28e68b613130f7043": {
     "views": [
      {
       "cell_index": 1
      }
     ]
    },
    "1abe0e1f23bf4f3daefe535dc6a64b31": {
     "views": [
      {
       "cell_index": 1
      }
     ]
    },
    "1c1b2903cbed4c239b4e775df0388596": {
     "views": [
      {
       "cell_index": 1
      }
     ]
    },
    "25af80361af54258aaa441fc47e1045c": {
     "views": [
      {
       "cell_index": 1
      }
     ]
    },
    "25c40e69cd134aca9d9298b9bffe1b0d": {
     "views": [
      {
       "cell_index": 1
      }
     ]
    },
    "25e89426efbb4a849f24e693820ddee1": {
     "views": [
      {
       "cell_index": 1
      }
     ]
    },
    "2d277abc69484aa4a479907ddd481128": {
     "views": [
      {
       "cell_index": 1
      }
     ]
    },
    "34fe647d508c44a99f834aaf09533591": {
     "views": [
      {
       "cell_index": 1
      }
     ]
    },
    "36151024dde940d49d55651a1a75ffad": {
     "views": [
      {
       "cell_index": 1
      }
     ]
    },
    "42c9358026e048f1addafd8fbb0b1ef8": {
     "views": [
      {
       "cell_index": 1
      }
     ]
    },
    "52afcd902acf49e4baa3e5b040d531e2": {
     "views": [
      {
       "cell_index": 1
      }
     ]
    },
    "564ca8602ca944f4870b26c52000a88b": {
     "views": [
      {
       "cell_index": 1
      }
     ]
    },
    "57352ba823f4431d8d72fbc9b2113d9b": {
     "views": [
      {
       "cell_index": 1
      }
     ]
    },
    "5958e19019254cfdb3e7b9e96872a04d": {
     "views": [
      {
       "cell_index": 1
      }
     ]
    },
    "59e61c77157f4a9eadfe88e50582b438": {
     "views": [
      {
       "cell_index": 1
      }
     ]
    },
    "6fe5e9c1d36b44cbbf5ac42d098014b9": {
     "views": [
      {
       "cell_index": 1
      }
     ]
    },
    "812c1862265b49dabee03b5b761618eb": {
     "views": [
      {
       "cell_index": 1
      }
     ]
    },
    "8712e13441f44762937273fa970de731": {
     "views": [
      {
       "cell_index": 1
      }
     ]
    },
    "8e30be0bfc4f44179a9fcb28ef0ea347": {
     "views": [
      {
       "cell_index": 1
      }
     ]
    },
    "913758b17a6b428d83022189db18d69d": {
     "views": [
      {
       "cell_index": 1
      }
     ]
    },
    "92360b74830c4b0794cd7baec108aa97": {
     "views": [
      {
       "cell_index": 1
      }
     ]
    },
    "96f16c109c40466ebe488b6b83ddb0f3": {
     "views": [
      {
       "cell_index": 1
      }
     ]
    },
    "9e936526d1a1440fbf393dd00ad92026": {
     "views": [
      {
       "cell_index": 1
      }
     ]
    },
    "a0aa9430754b4f32a3b5f053fcbce91a": {
     "views": [
      {
       "cell_index": 1
      }
     ]
    },
    "a53860e9cf324ea19fc4675e7d889546": {
     "views": [
      {
       "cell_index": 1
      }
     ]
    },
    "a82ef6872ed043f68a3107b307ae0548": {
     "views": [
      {
       "cell_index": 1
      }
     ]
    },
    "afeb361be1f64360a45a47993a859c21": {
     "views": [
      {
       "cell_index": 1
      }
     ]
    },
    "b16f986320204e29b07bd0024accd200": {
     "views": [
      {
       "cell_index": 1
      }
     ]
    },
    "badaf4af1a874194a5069701a1d565d3": {
     "views": [
      {
       "cell_index": 1
      }
     ]
    },
    "c87777263e6b4c25a3eca25c93b56485": {
     "views": [
      {
       "cell_index": 1
      }
     ]
    },
    "d24490cc56a544e4b9bfa86f0b5bab35": {
     "views": [
      {
       "cell_index": 1
      }
     ]
    },
    "d4ea4433a0ad4f67b57bfcd7041e2182": {
     "views": [
      {
       "cell_index": 1
      }
     ]
    },
    "d7dcc5b6796f4e559c57f61ece537c05": {
     "views": [
      {
       "cell_index": 1
      }
     ]
    },
    "db7efec2ce9d48c8b3665ca8a0c86cc6": {
     "views": [
      {
       "cell_index": 1
      }
     ]
    },
    "ea98bb726da84febbf76395e5109e7d7": {
     "views": [
      {
       "cell_index": 1
      }
     ]
    },
    "edcd20ccb03f42da8f376b2b165d4fbe": {
     "views": [
      {
       "cell_index": 1
      }
     ]
    },
    "ef652c8505a94b189a06a2373f4160d5": {
     "views": [
      {
       "cell_index": 1
      }
     ]
    },
    "fc2e372fe7eb4162b88e138fe46628d4": {
     "views": [
      {
       "cell_index": 1
      }
     ]
    }
   },
   "version": "1.2.0"
  }
 },
 "nbformat": 4,
 "nbformat_minor": 0
}
