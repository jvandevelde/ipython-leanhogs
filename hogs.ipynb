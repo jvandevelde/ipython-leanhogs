{
 "cells": [
  {
   "cell_type": "code",
   "execution_count": 1,
   "metadata": {
    "collapsed": false,
    "scrolled": true
   },
   "outputs": [
    {
     "name": "stdout",
     "output_type": "stream",
     "text": [
      "[2016, 2017]\n",
      "Start Date: 2015-02-15 00:00:00 - End Date:2016-02-15 00:00:00 : Far Contracts ['LNJ', 'LNK', 'LNM']\n",
      "Loading data from file 'data.hist.pickle'\n",
      "data.pickle was last updated on: 12/19/2016\n",
      "Loading data from file 'data.pickle'\n",
      "Graph strt/end: 2015-02-15 00:00:00 - 2016-02-15 00:00:00\n",
      "Plotting LNG-LNJ\n",
      "Plotting LNG-LNK\n",
      "Plotting LNG-LNM\n"
     ]
    }
   ],
   "source": [
    "%matplotlib qt\n",
    "%load_ext autoreload\n",
    "%autoreload 2\n",
    "import uicontroller as ui\n",
    "\n",
    "custom_series_list = {\n",
    "    '2012 and 2013':['2012','2013'], \n",
    "    '2012 - 2015':['2012','2013','2014','2015'],\n",
    "    '2012 - 2016':['2012', '2012','2013','2014','2015', '2016']\n",
    "}\n",
    "\n",
    "ui.start(custom_series_list)"
   ]
  },
  {
   "cell_type": "code",
   "execution_count": null,
   "metadata": {
    "collapsed": true
   },
   "outputs": [],
   "source": []
  }
 ],
 "metadata": {
  "anaconda-cloud": {},
  "kernelspec": {
   "display_name": "Python [conda env:hogs]",
   "language": "python",
   "name": "conda-env-hogs-py"
  },
  "language_info": {
   "codemirror_mode": {
    "name": "ipython",
    "version": 3
   },
   "file_extension": ".py",
   "mimetype": "text/x-python",
   "name": "python",
   "nbconvert_exporter": "python",
   "pygments_lexer": "ipython3",
   "version": "3.5.2"
  },
  "widgets": {
   "state": {
    "282011f0a1d74019a1dec1673cb35fda": {
     "views": [
      {
       "cell_index": 0
      }
     ]
    },
    "85c0df7f2c4241618b597ff5bae1999a": {
     "views": [
      {
       "cell_index": 0
      }
     ]
    }
   },
   "version": "1.2.0"
  }
 },
 "nbformat": 4,
 "nbformat_minor": 0
}
