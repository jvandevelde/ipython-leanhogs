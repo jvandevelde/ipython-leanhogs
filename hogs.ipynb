{
 "cells": [
  {
   "cell_type": "code",
   "execution_count": 13,
   "metadata": {
    "collapsed": false,
    "scrolled": false
   },
   "outputs": [
    {
     "name": "stdout",
     "output_type": "stream",
     "text": [
      "[2016, 2017]\n",
      "Start Date: 2015-02-15 00:00:00 - End Date:2016-02-15 00:00:00 : Far Contracts ['LNJ', 'LNK', 'LNM']\n",
      "Loading data from file 'data.hist.pickle'\n",
      "data.pickle was last updated on: 12/22/2016\n",
      "Loading data from file 'data.pickle'\n",
      "Graph strt/end: 2015-02-15 00:00:00 - 2016-02-15 00:00:00\n"
     ]
    }
   ],
   "source": [
    "%matplotlib qt\n",
    "%load_ext autoreload\n",
    "%autoreload 2\n",
    "import uicontroller as ui\n",
    "\n",
    "custom_series_list = {\n",
    "    '2012 and 2013':['2012','2013'], \n",
    "    '2012 - 2015':['2012','2013','2014','2015'],\n",
    "    '2012 - 2016':['2012', '2012','2013','2014','2015', '2016']\n",
    "}\n",
    "\n",
    "ui.start(custom_series_list)"
   ]
  },
  {
   "cell_type": "code",
   "execution_count": null,
   "metadata": {
    "collapsed": true
   },
   "outputs": [],
   "source": []
  }
 ],
 "metadata": {
  "anaconda-cloud": {},
  "kernelspec": {
   "display_name": "Python [conda env:hogs]",
   "language": "python",
   "name": "conda-env-hogs-py"
  },
  "language_info": {
   "codemirror_mode": {
    "name": "ipython",
    "version": 3
   },
   "file_extension": ".py",
   "mimetype": "text/x-python",
   "name": "python",
   "nbconvert_exporter": "python",
   "pygments_lexer": "ipython3",
   "version": "3.5.2"
  },
  "widgets": {
   "state": {
    "31f8c70d93524f30bd4e77c0a9873652": {
     "views": [
      {
       "cell_index": 0
      }
     ]
    },
    "4e9853eac2ea4e07b6ba361354db20ff": {
     "views": [
      {
       "cell_index": 0
      }
     ]
    },
    "54694c71d95342beb7cc52627c38a6fb": {
     "views": [
      {
       "cell_index": 0
      }
     ]
    },
    "7849d851178b439e8b7a9921e1f08d42": {
     "views": [
      {
       "cell_index": 0
      }
     ]
    },
    "81ba33ea4d1849e4a79ccbd3ecf99b00": {
     "views": [
      {
       "cell_index": 0
      }
     ]
    },
    "90cbf1c5c31549d5937c1ae317d60c3a": {
     "views": [
      {
       "cell_index": 0
      }
     ]
    },
    "92529c8ca73b4602abc4754fcb36c5be": {
     "views": [
      {
       "cell_index": 0
      }
     ]
    },
    "aef625f02bf94dbdbe709b014199fc02": {
     "views": [
      {
       "cell_index": 0
      }
     ]
    },
    "b2f5d829ae124b01bada7010fcb03898": {
     "views": [
      {
       "cell_index": 0
      }
     ]
    },
    "dad9e06842e54a87b9702373819c5348": {
     "views": [
      {
       "cell_index": 0
      }
     ]
    },
    "e72d83f2ca6848e68cde265e34e202e6": {
     "views": [
      {
       "cell_index": 0
      }
     ]
    },
    "fbb279110df24d2188ed1136ad60d889": {
     "views": [
      {
       "cell_index": 0
      }
     ]
    },
    "fc61ec49e03944338078efd3dc7d1186": {
     "views": [
      {
       "cell_index": 0
      }
     ]
    }
   },
   "version": "1.2.0"
  }
 },
 "nbformat": 4,
 "nbformat_minor": 0
}
