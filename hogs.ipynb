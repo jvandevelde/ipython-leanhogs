{
 "cells": [
  {
   "cell_type": "markdown",
   "metadata": {},
   "source": [
    "# Auto-save\n",
    "Clicks on #1 & #2 automatically save the generated charts to [Your computer](output\\charts)\n"
   ]
  },
  {
   "cell_type": "code",
   "execution_count": 42,
   "metadata": {
    "collapsed": false
   },
   "outputs": [
    {
     "name": "stdout",
     "output_type": "stream",
     "text": [
      "(2017, 4, 6)\n"
     ]
    }
   ],
   "source": [
    "import datetime as dt\n",
    "print(dt.date.today().isocalendar())"
   ]
  },
  {
   "cell_type": "code",
   "execution_count": 92,
   "metadata": {
    "collapsed": false,
    "scrolled": false
   },
   "outputs": [
    {
     "name": "stdout",
     "output_type": "stream",
     "text": [
      "Loading data from file 'data.hist.pickle'\n",
      "data.pickle was last updated on: 01/28/2017\n",
      "Loading data from file 'data.pickle'\n"
     ]
    }
   ],
   "source": [
    "%matplotlib qt\n",
    "%load_ext autoreload\n",
    "%autoreload 2\n",
    "import uicontroller as ui\n",
    "\n",
    "custom_series_list = {\n",
    "    '2012 and 2013': [2012,2013], \n",
    "    '2012 - 2015': [2012, 2013, 2014, 2015],\n",
    "    '2012 - 2016': [2012, 2012, 2013, 2014, 2015, 2016]\n",
    "}\n",
    "\n",
    "ui.start(custom_series_list)"
   ]
  }
 ],
 "metadata": {
  "anaconda-cloud": {},
  "kernelspec": {
   "display_name": "Python [conda env:hogs]",
   "language": "python",
   "name": "conda-env-hogs-py"
  },
  "language_info": {
   "codemirror_mode": {
    "name": "ipython",
    "version": 3
   },
   "file_extension": ".py",
   "mimetype": "text/x-python",
   "name": "python",
   "nbconvert_exporter": "python",
   "pygments_lexer": "ipython3",
   "version": "3.5.2"
  },
  "widgets": {
   "state": {
    "0157941eeae34b509b59394d32b398ba": {
     "views": [
      {
       "cell_index": 1
      }
     ]
    },
    "040f0661e47540ea9365740b8a36a2c2": {
     "views": [
      {
       "cell_index": 1
      }
     ]
    },
    "0af3a0f61b15411aab37d7c6c15f8873": {
     "views": [
      {
       "cell_index": 1
      }
     ]
    },
    "0bcfe95b5a4c410e8a73a0ba7406bc15": {
     "views": [
      {
       "cell_index": 1
      }
     ]
    },
    "0da2aacd11494dd98e43aabf84b647c7": {
     "views": [
      {
       "cell_index": 1
      }
     ]
    },
    "0db74b42ae2f4c17857b0ede4368b3e9": {
     "views": [
      {
       "cell_index": 1
      }
     ]
    },
    "0ebfd7e23b9948abb5244cd62ca3dd88": {
     "views": [
      {
       "cell_index": 1
      }
     ]
    },
    "0f92eab8e20b490d9a95b0da96bc71c1": {
     "views": [
      {
       "cell_index": 1
      }
     ]
    },
    "139dcde8dddf4068b3dd980ed43052f1": {
     "views": [
      {
       "cell_index": 1
      }
     ]
    },
    "143f2cf160e449818af1d9e86479d979": {
     "views": [
      {
       "cell_index": 1
      }
     ]
    },
    "148fe02df40a491992a61bb746983206": {
     "views": [
      {
       "cell_index": 1
      }
     ]
    },
    "14f204bec24b4e86b33fb71f29bc29c4": {
     "views": [
      {
       "cell_index": 1
      }
     ]
    },
    "172a3f0dd9af4fd799bab770d6469bee": {
     "views": [
      {
       "cell_index": 1
      }
     ]
    },
    "17b797e599e541958a3cc022d671824f": {
     "views": [
      {
       "cell_index": 1
      }
     ]
    },
    "185810ba3fe34f4b8d41769b1b3653eb": {
     "views": [
      {
       "cell_index": 2
      }
     ]
    },
    "19cfe07e1bf34dc4a2ff200afd1f5cf0": {
     "views": [
      {
       "cell_index": 2
      }
     ]
    },
    "1aabd8b7fec1468ea3a2f6efe412932d": {
     "views": [
      {
       "cell_index": 1
      }
     ]
    },
    "1ae4f991400d4a3197151dff8559123e": {
     "views": [
      {
       "cell_index": 1
      }
     ]
    },
    "1c4809b9feb74fd087abbcdd868cbf74": {
     "views": [
      {
       "cell_index": 1
      }
     ]
    },
    "1c8e6be8fd4542459a1140f68e76f39d": {
     "views": [
      {
       "cell_index": 1
      }
     ]
    },
    "21c965efb8b340f59854be7869575a58": {
     "views": [
      {
       "cell_index": 1
      }
     ]
    },
    "21d968af933746af80e28a87845e2cba": {
     "views": [
      {
       "cell_index": 1
      }
     ]
    },
    "21f02167bf7e438f8ab41058b3dcb75d": {
     "views": [
      {
       "cell_index": 2
      }
     ]
    },
    "22fe54bcd50a460dbf493e5bd60c173f": {
     "views": [
      {
       "cell_index": 1
      }
     ]
    },
    "25b22fd240a945f4bc95477d88400d1e": {
     "views": [
      {
       "cell_index": 1
      }
     ]
    },
    "260dca7e930b4760bd4b5f6f5f22d632": {
     "views": [
      {
       "cell_index": 1
      }
     ]
    },
    "26d0e6044db944e7910c6f7a23153dd3": {
     "views": [
      {
       "cell_index": 2
      }
     ]
    },
    "2a527f662b684939b0e9986223e8e243": {
     "views": [
      {
       "cell_index": 1
      }
     ]
    },
    "2f14e8f9587b41a6b8709bc94ba60ac4": {
     "views": [
      {
       "cell_index": 1
      }
     ]
    },
    "31587ac5f6b64d76806a313518d1374f": {
     "views": [
      {
       "cell_index": 2
      }
     ]
    },
    "32172d5b932248818196eef54a0899a0": {
     "views": [
      {
       "cell_index": 2
      }
     ]
    },
    "325d94682d084ba0a935e85b5257a2dd": {
     "views": [
      {
       "cell_index": 2
      }
     ]
    },
    "32948f9736a548f69e072a27e672d3d9": {
     "views": [
      {
       "cell_index": 2
      }
     ]
    },
    "329fba854d43426a89599402a25b6e8d": {
     "views": [
      {
       "cell_index": 1
      }
     ]
    },
    "335c7d007e90457caeb69b550a34930d": {
     "views": [
      {
       "cell_index": 2
      }
     ]
    },
    "353a426b70bd40be81bb3c6e37d0df98": {
     "views": [
      {
       "cell_index": 1
      }
     ]
    },
    "3607f920c1344d799b14349c3164c806": {
     "views": [
      {
       "cell_index": 1
      }
     ]
    },
    "367a79473ee04a788a3bc04d46cf6fe4": {
     "views": [
      {
       "cell_index": 1
      }
     ]
    },
    "368e43665e4a4faab0d0d4ce4673b483": {
     "views": [
      {
       "cell_index": 1
      }
     ]
    },
    "37945060dc93409e9ac05325ef8fd9a2": {
     "views": [
      {
       "cell_index": 1
      }
     ]
    },
    "392cc3ed296e47db83e79718fc5fb245": {
     "views": [
      {
       "cell_index": 1
      }
     ]
    },
    "3a7215db1d154874a765c3f5826a3255": {
     "views": [
      {
       "cell_index": 1
      }
     ]
    },
    "3c4b50aca22a41a0aa79aab7a4eb84b7": {
     "views": [
      {
       "cell_index": 1
      }
     ]
    },
    "3f0810bcfa66457c91d1c2e46e3546a0": {
     "views": [
      {
       "cell_index": 1
      }
     ]
    },
    "3f1e15acc13949b2ad69ae4a99e51392": {
     "views": [
      {
       "cell_index": 1
      }
     ]
    },
    "41d2a1d763b74fbc9de0860c74b19cee": {
     "views": [
      {
       "cell_index": 2
      }
     ]
    },
    "48be5fec15af4197a444971b271c4d05": {
     "views": [
      {
       "cell_index": 1
      }
     ]
    },
    "495367e93f654b87a4aa5a67d461fb21": {
     "views": [
      {
       "cell_index": 1
      }
     ]
    },
    "495dee9c83bc4f1fbd6826d39d5286c0": {
     "views": [
      {
       "cell_index": 1
      }
     ]
    },
    "4b3ff9b4ddc746efa17fb53ae53e867b": {
     "views": [
      {
       "cell_index": 2
      }
     ]
    },
    "4c01aca69bd84685854f6dedbef3811d": {
     "views": [
      {
       "cell_index": 2
      }
     ]
    },
    "4d5b1e21846a431485561dfc8bd2c26b": {
     "views": [
      {
       "cell_index": 1
      }
     ]
    },
    "5295172af4ff4974abfcdfbf2eaff033": {
     "views": [
      {
       "cell_index": 1
      }
     ]
    },
    "5437c7b88dd242daa26344df0e7b3758": {
     "views": [
      {
       "cell_index": 2
      }
     ]
    },
    "56c3d93c3a69475482f19334346ebae3": {
     "views": [
      {
       "cell_index": 1
      }
     ]
    },
    "5b2ce4f1cb65497c8705fc2bd3439edd": {
     "views": [
      {
       "cell_index": 2
      }
     ]
    },
    "5b65b8a969a946c2b6873f6fbd024979": {
     "views": [
      {
       "cell_index": 2
      }
     ]
    },
    "5d4d0bf4c51c473883936d6fc2f85b81": {
     "views": [
      {
       "cell_index": 1
      }
     ]
    },
    "5d7d40f6eccc4c048452380a2f91bd13": {
     "views": [
      {
       "cell_index": 2
      }
     ]
    },
    "5e791734014c4a31a2ad29f7692d06d1": {
     "views": [
      {
       "cell_index": 1
      }
     ]
    },
    "5f405ab68cb0425ab35a05df5df2c4b3": {
     "views": [
      {
       "cell_index": 1
      }
     ]
    },
    "5f734959f76a4b69a771881a4adfde51": {
     "views": [
      {
       "cell_index": 1
      }
     ]
    },
    "60f13c3e63de4717b6cb025d3108c017": {
     "views": [
      {
       "cell_index": 1
      }
     ]
    },
    "670a939996fd4030bc65c31e4772377e": {
     "views": [
      {
       "cell_index": 1
      }
     ]
    },
    "67ef38d3201244d6879ef47daaff1272": {
     "views": [
      {
       "cell_index": 1
      }
     ]
    },
    "6aee0279ab294813bfbef5d0e0a4ff97": {
     "views": [
      {
       "cell_index": 1
      }
     ]
    },
    "6b26e6d80a1e4fd9b42927ac0f8ea57c": {
     "views": [
      {
       "cell_index": 1
      }
     ]
    },
    "6c2d4cacb9fe4d6b89e8046b4f239c5f": {
     "views": [
      {
       "cell_index": 2
      }
     ]
    },
    "6e7fe2d0a1b6497f9c4551b41ce52635": {
     "views": [
      {
       "cell_index": 2
      }
     ]
    },
    "70e341a3e3f1442d898a91dd2ff6aa25": {
     "views": [
      {
       "cell_index": 1
      }
     ]
    },
    "715a81288ab44d2f81e848f772d6a185": {
     "views": [
      {
       "cell_index": 2
      }
     ]
    },
    "74e9808e23d54cd0a69c91077c4a1fe0": {
     "views": [
      {
       "cell_index": 1
      }
     ]
    },
    "751c8fba5e234561912766d080510509": {
     "views": [
      {
       "cell_index": 2
      }
     ]
    },
    "755b50d7811643a581c76ac8d8a200d6": {
     "views": [
      {
       "cell_index": 2
      }
     ]
    },
    "77cbf8b6eeb84f4fb1a8c35317d4c6fe": {
     "views": [
      {
       "cell_index": 2
      }
     ]
    },
    "78969d60cd6f40a89ea4d4b5dd43887b": {
     "views": [
      {
       "cell_index": 2
      }
     ]
    },
    "78db2163aa9e4e0d8c2f2a7edecf7c1b": {
     "views": [
      {
       "cell_index": 1
      }
     ]
    },
    "7d1ef0453f6e436c86f7c6bccf3d66ca": {
     "views": [
      {
       "cell_index": 2
      }
     ]
    },
    "7d52b0fa17d1422abeaae7a7c57cb37a": {
     "views": [
      {
       "cell_index": 1
      }
     ]
    },
    "7d63274512254d1fa1bb110a9e0b2063": {
     "views": [
      {
       "cell_index": 2
      }
     ]
    },
    "7df35b83828c47feb2827ed18c99cff3": {
     "views": [
      {
       "cell_index": 1
      }
     ]
    },
    "7f8387afa7a246e5bf01954e912250cc": {
     "views": [
      {
       "cell_index": 1
      }
     ]
    },
    "7fd368de056b4899aa227d7b699a32fb": {
     "views": [
      {
       "cell_index": 2
      }
     ]
    },
    "84059b58e18d426f9f53aa32da07ef3b": {
     "views": [
      {
       "cell_index": 2
      }
     ]
    },
    "894c2212b76041a78c4f2132f61de58a": {
     "views": [
      {
       "cell_index": 1
      }
     ]
    },
    "8ace557e3cc64001ad2fcc659b2ea988": {
     "views": [
      {
       "cell_index": 1
      }
     ]
    },
    "8c4fdfcd5f8a4e5c97c14f840c3056a8": {
     "views": [
      {
       "cell_index": 2
      }
     ]
    },
    "8da5629c3c014a58a799a4ba8eae51f2": {
     "views": [
      {
       "cell_index": 2
      }
     ]
    },
    "8e3c8036a60f4ceea9645d620f34361e": {
     "views": [
      {
       "cell_index": 1
      }
     ]
    },
    "8fdb444f91e346a78af8d0e613b8225c": {
     "views": [
      {
       "cell_index": 1
      }
     ]
    },
    "906a9240ce9c476781015e39d901b218": {
     "views": [
      {
       "cell_index": 1
      }
     ]
    },
    "90bb7f8f0e1745aea626aef0c64a9dc3": {
     "views": [
      {
       "cell_index": 1
      }
     ]
    },
    "92dde56711ba47f1905b3340ff954166": {
     "views": [
      {
       "cell_index": 1
      }
     ]
    },
    "93941386275b41fbb84f83ab27b089d2": {
     "views": [
      {
       "cell_index": 1
      }
     ]
    },
    "95785d3c85c747f7b8f82837db4ccd14": {
     "views": [
      {
       "cell_index": 1
      }
     ]
    },
    "97512756c3f149b497c8b510ab8088af": {
     "views": [
      {
       "cell_index": 2
      }
     ]
    },
    "977850dfb71a47c683280925e6e34b14": {
     "views": [
      {
       "cell_index": 1
      }
     ]
    },
    "99c7e2aae0f0450da51ad2f7dfff3997": {
     "views": [
      {
       "cell_index": 1
      }
     ]
    },
    "9aac9a10f30e4e0cb548454b0cea33bc": {
     "views": [
      {
       "cell_index": 1
      }
     ]
    },
    "9b5c933287b3429288898b36591d0f96": {
     "views": [
      {
       "cell_index": 2
      }
     ]
    },
    "9b6270d2ef3749f79da8751f1e0d17e5": {
     "views": [
      {
       "cell_index": 1
      }
     ]
    },
    "9f4d35118f8d4b2a967441c9ada25516": {
     "views": [
      {
       "cell_index": 2
      }
     ]
    },
    "a199b9060b264f72a9ba903ca0c7b326": {
     "views": [
      {
       "cell_index": 1
      }
     ]
    },
    "a2334599524b424fa81b880535f8519c": {
     "views": [
      {
       "cell_index": 1
      }
     ]
    },
    "a2afd973c8644c5c9c1b9d3c01df9887": {
     "views": [
      {
       "cell_index": 1
      }
     ]
    },
    "a5567a441d4e4c07b9aa8e3ac8d028c6": {
     "views": [
      {
       "cell_index": 1
      }
     ]
    },
    "a7b75868aa0544598eed0264b0f3b2be": {
     "views": [
      {
       "cell_index": 1
      }
     ]
    },
    "a9377abc6ae04aa5b2f532bc4faa1d47": {
     "views": [
      {
       "cell_index": 1
      }
     ]
    },
    "aae6deb187194490a9e19becb19ea430": {
     "views": [
      {
       "cell_index": 2
      }
     ]
    },
    "aafcac7c92a44fd6bc8280466c128512": {
     "views": [
      {
       "cell_index": 1
      }
     ]
    },
    "b2cd46135fea4b338f179a1751cf83cf": {
     "views": [
      {
       "cell_index": 1
      }
     ]
    },
    "b4d65856e1374424ae193bb203059b0b": {
     "views": [
      {
       "cell_index": 1
      }
     ]
    },
    "b5cbf23036ff47e697118d53dea742d5": {
     "views": [
      {
       "cell_index": 2
      }
     ]
    },
    "b78768be1e664cab9597f2d48857c92d": {
     "views": [
      {
       "cell_index": 1
      }
     ]
    },
    "b7e5ebe21ac244c0ba6ebac77269df29": {
     "views": [
      {
       "cell_index": 1
      }
     ]
    },
    "b86be4c375814ad99376ef50ebcaab6f": {
     "views": [
      {
       "cell_index": 1
      }
     ]
    },
    "bef05fb735f04b10879201381c857928": {
     "views": [
      {
       "cell_index": 1
      }
     ]
    },
    "bf48a49f6e76446b878a8b426500b725": {
     "views": [
      {
       "cell_index": 1
      }
     ]
    },
    "c39f2a69a170476cb6df34e439b0b67e": {
     "views": [
      {
       "cell_index": 1
      }
     ]
    },
    "c3d28e756c664897a5cde1a4fcd550ab": {
     "views": [
      {
       "cell_index": 2
      }
     ]
    },
    "c42bf1ad8888492b8ea8e7be7c23d079": {
     "views": [
      {
       "cell_index": 2
      }
     ]
    },
    "c6e502d35a674a8eb03f27829fb3f39e": {
     "views": [
      {
       "cell_index": 1
      }
     ]
    },
    "c849b169146e417d843c63d5eb995bfe": {
     "views": [
      {
       "cell_index": 1
      }
     ]
    },
    "c86420d4f54a48fe86560b1bd25b3fd5": {
     "views": [
      {
       "cell_index": 2
      }
     ]
    },
    "c9c375f18fdf4505a91c0ea1af98f3e7": {
     "views": [
      {
       "cell_index": 1
      }
     ]
    },
    "cfa0d24daa9c4bdaaf767dd0f567d754": {
     "views": [
      {
       "cell_index": 2
      }
     ]
    },
    "d2b7b5e10c0c4c5ca18ed060b7ff1103": {
     "views": [
      {
       "cell_index": 1
      }
     ]
    },
    "d320602a8c6f4e9e850fc0a24aeed253": {
     "views": [
      {
       "cell_index": 1
      }
     ]
    },
    "d7e26a58acb6422aa1b692fb6e5c2394": {
     "views": [
      {
       "cell_index": 1
      }
     ]
    },
    "d839cc26d9944d6c84c3ab22252e6137": {
     "views": [
      {
       "cell_index": 1
      }
     ]
    },
    "db04911bfd824225921b0496067ada06": {
     "views": [
      {
       "cell_index": 2
      }
     ]
    },
    "dcd3f3cdb1344436a983f52c4f4364bb": {
     "views": [
      {
       "cell_index": 1
      }
     ]
    },
    "dd1dfbc2890145a981bf0d52090b7bed": {
     "views": [
      {
       "cell_index": 2
      }
     ]
    },
    "de180a2f448a4faaa3168aa2c4b82bde": {
     "views": [
      {
       "cell_index": 1
      }
     ]
    },
    "df52dfe664274c049014d218fb7b7883": {
     "views": [
      {
       "cell_index": 2
      }
     ]
    },
    "df954beeb3c746a0b9d904fd347ed204": {
     "views": [
      {
       "cell_index": 2
      }
     ]
    },
    "e30218c476a84ea1837fef04f1a0f2c6": {
     "views": [
      {
       "cell_index": 1
      }
     ]
    },
    "e342cabfedb74ce09751f0f707d197dc": {
     "views": [
      {
       "cell_index": 2
      }
     ]
    },
    "e345715c48d0461c9645ade9dfcff1b6": {
     "views": [
      {
       "cell_index": 1
      }
     ]
    },
    "e34d14f8f1234c3c993b6463c2eabfac": {
     "views": [
      {
       "cell_index": 1
      }
     ]
    },
    "e46a0815e41d4a0782185cedc198cc48": {
     "views": [
      {
       "cell_index": 2
      }
     ]
    },
    "e7d43f3fc70a4d9eac6eb17f737782a4": {
     "views": [
      {
       "cell_index": 1
      }
     ]
    },
    "e854c3161de44ade8ccc3345ef17e956": {
     "views": [
      {
       "cell_index": 2
      }
     ]
    },
    "ec78f298414f47f5b9085323269607a1": {
     "views": [
      {
       "cell_index": 1
      }
     ]
    },
    "eeef0412de9e4c848c383fa2b10a6cf9": {
     "views": [
      {
       "cell_index": 1
      }
     ]
    },
    "ef1347f884a04a49a858288e1a093c9d": {
     "views": [
      {
       "cell_index": 1
      }
     ]
    },
    "efeb701883c04ec998514639ca73e35b": {
     "views": [
      {
       "cell_index": 1
      }
     ]
    },
    "f0616c9239e0451bbb796e37e9ac1fe5": {
     "views": [
      {
       "cell_index": 1
      }
     ]
    },
    "f14fd7dfcf444f09a73852545c15b59b": {
     "views": [
      {
       "cell_index": 2
      }
     ]
    },
    "f39a0919b9dc4227bf8728615a9348cc": {
     "views": [
      {
       "cell_index": 2
      }
     ]
    },
    "f716051d9af24928b6ef8e7a254a9686": {
     "views": [
      {
       "cell_index": 2
      }
     ]
    },
    "f757be9baf5e43db8776e4cfa86bc50f": {
     "views": [
      {
       "cell_index": 2
      }
     ]
    },
    "f8c647e7ee8c4eeabaf132d66c5cd85f": {
     "views": [
      {
       "cell_index": 1
      }
     ]
    },
    "f91d9c6748f741a1b524778d09e2b4a7": {
     "views": [
      {
       "cell_index": 2
      }
     ]
    },
    "fa9fb3608e8d4b29b2bb8b389c48ac16": {
     "views": [
      {
       "cell_index": 1
      }
     ]
    },
    "fc7c626ebc6d4579bfd022e1098a1630": {
     "views": [
      {
       "cell_index": 1
      }
     ]
    },
    "fcf25556be054bc9bdfa0a2737c9ee06": {
     "views": [
      {
       "cell_index": 1
      }
     ]
    },
    "fd1a724e26db4b32a79d3f847bc21c38": {
     "views": [
      {
       "cell_index": 2
      }
     ]
    }
   },
   "version": "1.2.0"
  }
 },
 "nbformat": 4,
 "nbformat_minor": 0
}
