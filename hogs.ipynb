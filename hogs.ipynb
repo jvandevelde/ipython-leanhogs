{
 "cells": [
  {
   "cell_type": "code",
   "execution_count": 9,
   "metadata": {
    "collapsed": false,
    "scrolled": false
   },
   "outputs": [
    {
     "name": "stdout",
     "output_type": "stream",
     "text": [
      "[2016, 2017]\n",
      "Start Date: 2015-02-15 00:00:00\n",
      "End Date:2016-02-15 00:00:00\n",
      "['LNJ', 'LNK', 'LNM']\n",
      "Loading data from file 'data.hist.pickle'\n",
      "Last save date: 1481689304.7342412\n",
      "Loading data from file 'data.pickle'\n",
      "Graph strt/end: 2015-02-15 00:00:00 - 2016-02-15 00:00:00\n",
      "Plotting LNG-LNJ\n",
      "Plotting LNG-LNK\n",
      "Plotting LNG-LNM\n"
     ]
    }
   ],
   "source": [
    "%load_ext autoreload\n",
    "%autoreload 2\n",
    "import uicontroller as ui\n",
    "\n",
    "custom_series_list = {\n",
    "    '2012 and 2013':['2012','2013'], \n",
    "    '2012 - 2015':['2012','2013','2014','2015'],\n",
    "    '2012 - 2016':['2012', '2012','2013','2014','2015', '2016']\n",
    "}\n",
    "\n",
    "ui.start(custom_series_list)"
   ]
  }
 ],
 "metadata": {
  "anaconda-cloud": {},
  "kernelspec": {
   "display_name": "Python [Root]",
   "language": "python",
   "name": "Python [Root]"
  },
  "language_info": {
   "codemirror_mode": {
    "name": "ipython",
    "version": 3
   },
   "file_extension": ".py",
   "mimetype": "text/x-python",
   "name": "python",
   "nbconvert_exporter": "python",
   "pygments_lexer": "ipython3",
   "version": "3.5.2"
  },
  "widgets": {
   "state": {
    "0644e94c064f49f1b6555cdd49c9d76b": {
     "views": [
      {
       "cell_index": 0
      }
     ]
    },
    "091a96c00d034fd0badb8ea5a6873177": {
     "views": [
      {
       "cell_index": 0
      }
     ]
    },
    "1d4a1343e61c43d996831f5a17e3a26e": {
     "views": [
      {
       "cell_index": 0
      }
     ]
    },
    "1e28f825fe84487b911cd7bab2c82560": {
     "views": [
      {
       "cell_index": 0
      }
     ]
    },
    "5a426de956e84578a91c7173e807837c": {
     "views": [
      {
       "cell_index": 0
      }
     ]
    },
    "649927bd119b4f6c8523ae2e0755820b": {
     "views": [
      {
       "cell_index": 0
      }
     ]
    },
    "6613ae59f1224abd828d208533ccd72e": {
     "views": [
      {
       "cell_index": 0
      }
     ]
    },
    "8abc452998d044469db1c4ce8092af2a": {
     "views": [
      {
       "cell_index": 0
      }
     ]
    },
    "910e5874b1d54f3aa6223a0db1308018": {
     "views": [
      {
       "cell_index": 0
      }
     ]
    },
    "9d8a2f515195472184465a28f8f76083": {
     "views": [
      {
       "cell_index": 0
      }
     ]
    },
    "a49f2b214fe64d6e81fc978c2caeeee3": {
     "views": [
      {
       "cell_index": 0
      }
     ]
    },
    "a7cb654f327e4b03af6842c94c80354f": {
     "views": [
      {
       "cell_index": 0
      }
     ]
    },
    "b863f53f05eb4fe29eb0f2ccc784e4f4": {
     "views": [
      {
       "cell_index": 0
      }
     ]
    },
    "b9db9973a3994f8d80bda6d5125ee27c": {
     "views": [
      {
       "cell_index": 0
      }
     ]
    },
    "bb12ba0059c144f7bda951d1ed7111cb": {
     "views": [
      {
       "cell_index": 0
      }
     ]
    },
    "c9ebcd7bb03e4e24be8c061436794e01": {
     "views": [
      {
       "cell_index": 0
      }
     ]
    },
    "cc45772f1fe14df89b88d630a47c99f9": {
     "views": [
      {
       "cell_index": 0
      }
     ]
    },
    "e2f1740403894d778e38ab9600e33e1b": {
     "views": [
      {
       "cell_index": 0
      }
     ]
    },
    "f45c751d9cf34db8811e45ef2e9856e8": {
     "views": [
      {
       "cell_index": 0
      }
     ]
    }
   },
   "version": "1.2.0"
  }
 },
 "nbformat": 4,
 "nbformat_minor": 0
}
