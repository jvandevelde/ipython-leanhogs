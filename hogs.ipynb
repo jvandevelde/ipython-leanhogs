{
 "cells": [
  {
   "cell_type": "markdown",
   "metadata": {},
   "source": [
    "# Auto-save\n",
    "Clicks on #1 & #2 automatically save the generated charts to [Your computer](output\\charts)\n"
   ]
  },
  {
   "cell_type": "code",
   "execution_count": 1,
   "metadata": {
    "scrolled": false
   },
   "outputs": [
    {
     "data": {
      "application/vnd.jupyter.widget-view+json": {
       "model_id": "9586506c5c344ea3bf66781d96962d81",
       "version_major": 2,
       "version_minor": 0
      },
      "text/plain": [
       "HBox(children=(VBox(children=(SelectMultiple(index=(18, 19, 20, 21, 22), layout=Layout(height='300px'), option…"
      ]
     },
     "metadata": {},
     "output_type": "display_data"
    },
    {
     "data": {
      "application/vnd.jupyter.widget-view+json": {
       "model_id": "82babaaa5e5b41c48ea1bf32c9a988b4",
       "version_major": 2,
       "version_minor": 0
      },
      "text/plain": [
       "HBox(children=(Button(button_style='info', description='Five', style=ButtonStyle()), Button(button_style='info…"
      ]
     },
     "metadata": {},
     "output_type": "display_data"
    },
    {
     "data": {
      "application/vnd.jupyter.widget-view+json": {
       "model_id": "7d1b8ff89c8f4fca95eb4906942294e8",
       "version_major": 2,
       "version_minor": 0
      },
      "text/plain": [
       "VBox(children=(HBox(children=(SelectMultiple(layout=Layout(height='150px'), options=('ZGJ', 'QVZ', 'JKM', 'GJK…"
      ]
     },
     "metadata": {},
     "output_type": "display_data"
    }
   ],
   "source": [
    "%matplotlib qt\n",
    "\n",
    "%load_ext autoreload\n",
    "%autoreload 2\n",
    "\n",
    "import uicontroller as ui\n",
    "\n",
    "custom_series_list = {\n",
    "    '2012 and 2013': [2012,2013], \n",
    "    '2012 - 2015': [2012, 2013, 2014, 2015],\n",
    "    '2012 - 2016': [2012, 2012, 2013, 2014, 2015, 2016]\n",
    "}\n",
    "\n",
    "ui.start(custom_series_list)"
   ]
  },
  {
   "cell_type": "code",
   "execution_count": 2,
   "metadata": {},
   "outputs": [
    {
     "data": {
      "text/plain": [
       "'Qt4Agg'"
      ]
     },
     "execution_count": 2,
     "metadata": {},
     "output_type": "execute_result"
    }
   ],
   "source": [
    "import matplotlib\n",
    "matplotlib.get_backend()"
   ]
  }
 ],
 "metadata": {
  "anaconda-cloud": {},
  "kernelspec": {
   "display_name": "Python 3",
   "language": "python",
   "name": "python3"
  },
  "language_info": {
   "codemirror_mode": {
    "name": "ipython",
    "version": 3
   },
   "file_extension": ".py",
   "mimetype": "text/x-python",
   "name": "python",
   "nbconvert_exporter": "python",
   "pygments_lexer": "ipython3",
   "version": "3.5.6"
  },
  "widgets": {
   "state": {
    "252204a692344a24830218224f6eebf1": {
     "views": [
      {
       "cell_index": 1
      }
     ]
    },
    "60018dbc203d4cf9a8b24000d6abd2db": {
     "views": [
      {
       "cell_index": 1
      }
     ]
    }
   },
   "version": "1.2.0"
  }
 },
 "nbformat": 4,
 "nbformat_minor": 1
}
