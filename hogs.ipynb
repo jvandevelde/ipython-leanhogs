{
 "cells": [
  {
   "cell_type": "code",
   "execution_count": 27,
   "metadata": {
    "collapsed": false,
    "scrolled": true
   },
   "outputs": [],
   "source": [
    "%matplotlib qt \n",
    "%load_ext autoreload\n",
    "%autoreload 2\n",
    "import uicontroller as ui\n",
    "\n",
    "custom_series_list = {\n",
    "    '2012 and 2013': [2012,2013], \n",
    "    '2012 - 2015': [2012, 2013, 2014, 2015],\n",
    "    '2012 - 2016': [2012, 2012, 2013, 2014, 2015, 2016]\n",
    "}\n",
    "\n",
    "ui.start(custom_series_list)"
   ]
  }
 ],
 "metadata": {
  "anaconda-cloud": {},
  "kernelspec": {
   "display_name": "Python [conda env:hogs]",
   "language": "python",
   "name": "conda-env-hogs-py"
  },
  "language_info": {
   "codemirror_mode": {
    "name": "ipython",
    "version": 3
   },
   "file_extension": ".py",
   "mimetype": "text/x-python",
   "name": "python",
   "nbconvert_exporter": "python",
   "pygments_lexer": "ipython3",
   "version": "3.5.2"
  },
  "widgets": {
   "state": {
    "04c04659bbc245aca4d96deef5cbbd3e": {
     "views": [
      {
       "cell_index": 0
      }
     ]
    },
    "0e5b34f30e5440539d2a15fcb592ca9c": {
     "views": [
      {
       "cell_index": 0
      }
     ]
    },
    "1207d9ae57044ba59487da76594d1204": {
     "views": [
      {
       "cell_index": 0
      }
     ]
    },
    "2d2773d4e732463ca0d7cf3e020d87ba": {
     "views": [
      {
       "cell_index": 0
      }
     ]
    },
    "33544513219f43fb9621c3f673aee33c": {
     "views": [
      {
       "cell_index": 0
      }
     ]
    },
    "3692effc84c84fb5bc28d33124f7ffdd": {
     "views": [
      {
       "cell_index": 0
      }
     ]
    },
    "43e3ac652db64a16b53582e7e3835447": {
     "views": [
      {
       "cell_index": 0
      }
     ]
    },
    "4b9f5bc0ec704ca99b2301677278a301": {
     "views": [
      {
       "cell_index": 0
      }
     ]
    },
    "55d32a9e501c40eebef34160a7b1c594": {
     "views": [
      {
       "cell_index": 0
      }
     ]
    },
    "56e6e461cae24725b7d22511087a0530": {
     "views": [
      {
       "cell_index": 0
      }
     ]
    },
    "6150076aa8dd4c39bbb77f091980ed61": {
     "views": [
      {
       "cell_index": 0
      }
     ]
    },
    "6552389dc9f04176aefacf0bff4af91d": {
     "views": [
      {
       "cell_index": 0
      }
     ]
    },
    "6dc706f6565c4163899bb97bb0043edf": {
     "views": [
      {
       "cell_index": 0
      }
     ]
    },
    "7e69c78568884605ab27deb5264ac74f": {
     "views": [
      {
       "cell_index": 0
      }
     ]
    },
    "823045f7c54d406fbad02301d7990250": {
     "views": [
      {
       "cell_index": 0
      }
     ]
    },
    "88df778c290e4d3d96cc1e2456e49897": {
     "views": [
      {
       "cell_index": 0
      }
     ]
    },
    "ac9b1c1f939d43b4b61c2da630cc869a": {
     "views": [
      {
       "cell_index": 0
      }
     ]
    },
    "c497022f059f49c680ec8a4c5b92cdfb": {
     "views": [
      {
       "cell_index": 0
      }
     ]
    },
    "c633f7d77cf441e5b03363c03ec2cc5c": {
     "views": [
      {
       "cell_index": 0
      }
     ]
    },
    "c7dee02e7883425a86a464cb1902fe9b": {
     "views": [
      {
       "cell_index": 0
      }
     ]
    },
    "cf2d8e0a126f4706860aff72ede8ed7b": {
     "views": [
      {
       "cell_index": 0
      }
     ]
    },
    "df1c72406ed640f58eb6fb75c8493c9f": {
     "views": [
      {
       "cell_index": 0
      }
     ]
    },
    "e5b9a80229d242c1a020fd4cfe5f77de": {
     "views": [
      {
       "cell_index": 0
      }
     ]
    },
    "e9899c79243446389f7fe31013598477": {
     "views": [
      {
       "cell_index": 0
      }
     ]
    },
    "f75b13f131ae473ab94fe68cac7f7942": {
     "views": [
      {
       "cell_index": 0
      }
     ]
    },
    "feeb3080dce34ab0b68f5fc9d47295e3": {
     "views": [
      {
       "cell_index": 0
      }
     ]
    }
   },
   "version": "1.2.0"
  }
 },
 "nbformat": 4,
 "nbformat_minor": 0
}
