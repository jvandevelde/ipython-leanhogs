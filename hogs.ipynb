{
 "cells": [
  {
   "cell_type": "code",
   "execution_count": 54,
   "metadata": {
    "collapsed": false,
    "scrolled": true
   },
   "outputs": [
    {
     "name": "stdout",
     "output_type": "stream",
     "text": [
      "[2016, 2017]\n",
      "Start Date: 2015-02-15 00:00:00 - End Date:2016-02-15 00:00:00 : Far Contracts ['LNJ', 'LNK', 'LNM']\n",
      "Loading data from file 'data.hist.pickle'\n",
      "data.pickle was last updated on: 12/18/2016\n",
      "Loading data from file 'data.pickle'\n",
      "Graph strt/end: 2015-02-15 00:00:00 - 2016-02-15 00:00:00\n",
      "Plotting LNG-LNJ\n",
      "Plotting LNG-LNK\n",
      "Plotting LNG-LNM\n"
     ]
    }
   ],
   "source": [
    "%load_ext autoreload\n",
    "%autoreload 2\n",
    "import uicontroller as ui\n",
    "\n",
    "custom_series_list = {\n",
    "    '2012 and 2013':['2012','2013'], \n",
    "    '2012 - 2015':['2012','2013','2014','2015'],\n",
    "    '2012 - 2016':['2012', '2012','2013','2014','2015', '2016']\n",
    "}\n",
    "\n",
    "ui.start(custom_series_list)"
   ]
  },
  {
   "cell_type": "code",
   "execution_count": null,
   "metadata": {
    "collapsed": true
   },
   "outputs": [],
   "source": []
  }
 ],
 "metadata": {
  "anaconda-cloud": {},
  "kernelspec": {
   "display_name": "Python [Root]",
   "language": "python",
   "name": "Python [Root]"
  },
  "language_info": {
   "codemirror_mode": {
    "name": "ipython",
    "version": 3
   },
   "file_extension": ".py",
   "mimetype": "text/x-python",
   "name": "python",
   "nbconvert_exporter": "python",
   "pygments_lexer": "ipython3",
   "version": "3.5.2"
  },
  "widgets": {
   "state": {
    "01398063644a4667aeafa40c388640b0": {
     "views": [
      {
       "cell_index": 0
      }
     ]
    },
    "0236c2800e1c4203974688b478e56aef": {
     "views": [
      {
       "cell_index": 0
      }
     ]
    },
    "09fa89b04cd9428396018b3f572a604a": {
     "views": [
      {
       "cell_index": 0
      }
     ]
    },
    "0c15ccac3e3f43839ef75284da663531": {
     "views": [
      {
       "cell_index": 0
      }
     ]
    },
    "0dc8b3de2a7e44d8920aeac1e97bc3a5": {
     "views": [
      {
       "cell_index": 0
      }
     ]
    },
    "0f39916bde8244f6ae11e566ef3a3c8a": {
     "views": [
      {
       "cell_index": 0
      }
     ]
    },
    "12979714e2984d7085d8773d47711d33": {
     "views": [
      {
       "cell_index": 0
      }
     ]
    },
    "136b4ac8cb064c3d9292f656b56147ae": {
     "views": [
      {
       "cell_index": 0
      }
     ]
    },
    "16a1c516e89541e189f70d8d3d6dd9c5": {
     "views": [
      {
       "cell_index": 0
      }
     ]
    },
    "1cd84d07af4c40538b7c281e20f13109": {
     "views": [
      {
       "cell_index": 0
      }
     ]
    },
    "1daa361e1ce941b1b754788f62576a65": {
     "views": [
      {
       "cell_index": 0
      }
     ]
    },
    "1df01d4d48e9465ba34f92a91536c541": {
     "views": [
      {
       "cell_index": 0
      }
     ]
    },
    "1f1713f41b614f528f5aa46ea19f1eca": {
     "views": [
      {
       "cell_index": 0
      }
     ]
    },
    "20facbb661f04a8ea9cccac2226424b8": {
     "views": [
      {
       "cell_index": 0
      }
     ]
    },
    "22376a0b23b64c37a68db4db801baf39": {
     "views": [
      {
       "cell_index": 0
      }
     ]
    },
    "2636bee889ff43259eccd990f171b66a": {
     "views": [
      {
       "cell_index": 0
      }
     ]
    },
    "2736d28557be449f9bd96fab590cec62": {
     "views": [
      {
       "cell_index": 0
      }
     ]
    },
    "35303067bad0435bbfc0c930deb9759c": {
     "views": [
      {
       "cell_index": 0
      }
     ]
    },
    "38fb3c97121445438871af4b6a6ed694": {
     "views": [
      {
       "cell_index": 0
      }
     ]
    },
    "3ba4649cc50240a7a0aa345da2579eb2": {
     "views": [
      {
       "cell_index": 0
      }
     ]
    },
    "3c83a1d5dbc64af8b3f834a600774cd7": {
     "views": [
      {
       "cell_index": 0
      }
     ]
    },
    "3f51f24e84874708b47327afd33cb836": {
     "views": [
      {
       "cell_index": 0
      }
     ]
    },
    "3fe424928e444b66891f8004a5fd6dd7": {
     "views": [
      {
       "cell_index": 0
      }
     ]
    },
    "475e2fa610fe40329ed6b18d64df1715": {
     "views": [
      {
       "cell_index": 0
      }
     ]
    },
    "48e31e71b281425aab15817de9fdf3fa": {
     "views": [
      {
       "cell_index": 0
      }
     ]
    },
    "4b80830f6d814c3f8036fe2f63ca5a74": {
     "views": [
      {
       "cell_index": 0
      }
     ]
    },
    "5bc01c74b0e74c13b5ec47f23318bb85": {
     "views": [
      {
       "cell_index": 0
      }
     ]
    },
    "65acd835539c4347a1d16ba3c1ade66d": {
     "views": [
      {
       "cell_index": 0
      }
     ]
    },
    "670cb615e32e4c5f88c040a8c72eff22": {
     "views": [
      {
       "cell_index": 0
      }
     ]
    },
    "68b8c7aa35ad474587fc2f5682939eec": {
     "views": [
      {
       "cell_index": 0
      }
     ]
    },
    "6ac5701aa3cf4ae6b9185a9c6ea0d180": {
     "views": [
      {
       "cell_index": 0
      }
     ]
    },
    "782b5861b7014732bed71592666589a6": {
     "views": [
      {
       "cell_index": 0
      }
     ]
    },
    "7af2aab112e346ce97b1c529cdf4d212": {
     "views": [
      {
       "cell_index": 0
      }
     ]
    },
    "7e56238b010741aa847235d5f03be864": {
     "views": [
      {
       "cell_index": 0
      }
     ]
    },
    "7e8e6ca46b3c4ca78565f1ac27b3dd8b": {
     "views": [
      {
       "cell_index": 0
      }
     ]
    },
    "84da1bf5d6a84a819536d53c5bf16d17": {
     "views": [
      {
       "cell_index": 0
      }
     ]
    },
    "85a1c4614ab44806ad548ba6d8e8f954": {
     "views": [
      {
       "cell_index": 0
      }
     ]
    },
    "8ea4ec88e9d24d4cb0428ed4d8c885ba": {
     "views": [
      {
       "cell_index": 0
      }
     ]
    },
    "910ddcb2633841c59c30f8143a06ce5b": {
     "views": [
      {
       "cell_index": 0
      }
     ]
    },
    "a255630862bf4932908e2df68f0d620e": {
     "views": [
      {
       "cell_index": 0
      }
     ]
    },
    "a47e3a5dc7894c71976acf6eccfed5b7": {
     "views": [
      {
       "cell_index": 0
      }
     ]
    },
    "a5d12e07d52e4f0c8c3c2d1e35af770a": {
     "views": [
      {
       "cell_index": 0
      }
     ]
    },
    "aab16691ef73420ba3d47053d2dc118a": {
     "views": [
      {
       "cell_index": 0
      }
     ]
    },
    "abe50afd6a5046f0995d107088ad611d": {
     "views": [
      {
       "cell_index": 0
      }
     ]
    },
    "ae38049339f440b1b1a0d989821e3b46": {
     "views": [
      {
       "cell_index": 0
      }
     ]
    },
    "b97649a3cc9947dfa5550322680297a0": {
     "views": [
      {
       "cell_index": 0
      }
     ]
    },
    "ba5e2b59783f417998a18774a6badd95": {
     "views": [
      {
       "cell_index": 0
      }
     ]
    },
    "bc14ae8c1ab94fa5bab32e87dd044d5c": {
     "views": [
      {
       "cell_index": 0
      }
     ]
    },
    "bdb8e2d09df443c9b1f4b21de24ce32f": {
     "views": [
      {
       "cell_index": 0
      }
     ]
    },
    "ca1a064142d34bd28c87c4f75a59eebf": {
     "views": [
      {
       "cell_index": 0
      }
     ]
    },
    "d4c90c670be5432688e198321b0cdf65": {
     "views": [
      {
       "cell_index": 0
      }
     ]
    },
    "e06dc33c35034f1a950f6cef3e3216d8": {
     "views": [
      {
       "cell_index": 0
      }
     ]
    },
    "e1bbda8ec49d4ece846ddd801201e17b": {
     "views": [
      {
       "cell_index": 0
      }
     ]
    },
    "e33ed954872046e5bfc6d3cdc538b3b4": {
     "views": [
      {
       "cell_index": 0
      }
     ]
    },
    "e38029a4ff0d41a2b6f54ca2a2083323": {
     "views": [
      {
       "cell_index": 0
      }
     ]
    },
    "e5a16531b5a04d13b5a0e32e64b7c900": {
     "views": [
      {
       "cell_index": 0
      }
     ]
    },
    "e761b7042e904a1188c908b007279262": {
     "views": [
      {
       "cell_index": 0
      }
     ]
    },
    "f1d80cd32ebc4ba39fc2d4236fddfd23": {
     "views": [
      {
       "cell_index": 0
      }
     ]
    },
    "f30e3dd61e9341859bdc4fea8470adf7": {
     "views": [
      {
       "cell_index": 0
      }
     ]
    },
    "fa8680ceb58c4f759474fbffc229cbcd": {
     "views": [
      {
       "cell_index": 0
      }
     ]
    },
    "ff967d046dc041de9aad3586e0f2a426": {
     "views": [
      {
       "cell_index": 0
      }
     ]
    }
   },
   "version": "1.2.0"
  }
 },
 "nbformat": 4,
 "nbformat_minor": 0
}
